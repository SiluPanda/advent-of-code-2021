{
 "cells": [
  {
   "cell_type": "code",
   "execution_count": 292,
   "metadata": {},
   "outputs": [],
   "source": [
    "from typing import *"
   ]
  },
  {
   "cell_type": "code",
   "execution_count": 293,
   "metadata": {},
   "outputs": [],
   "source": [
    "rule = ''\n",
    "pixels = []\n",
    "for line in open('input20.txt', 'r'):\n",
    "    if line != '\\n':\n",
    "        line = line.lstrip().rstrip()\n",
    "        if rule == '':\n",
    "            rule = line\n",
    "        else:\n",
    "            pixels.append(list(line))\n",
    "\n",
    "x, y = len(pixels), len(pixels[0])\n",
    "if len(rule) != 512:\n",
    "    raise Exception(\"rule is not 512 characters long\")"
   ]
  },
  {
   "cell_type": "code",
   "execution_count": 294,
   "metadata": {},
   "outputs": [],
   "source": [
    "\n",
    "\n",
    "def enhance(original: List[List[str]], rule: str) -> List[List[str]]:\n",
    "    N, M = len(original), len(original[0])\n",
    "\n",
    "    enhanced = [['.' for j in range(M)] for i in range(N)]\n",
    "    \n",
    "    for i in range(0, N):\n",
    "        for j in range(0, M):\n",
    "            pattern = ''\n",
    "            for p in range(i-1, i+2):\n",
    "                for q in range(j-1, j+2):\n",
    "                    if 0 <= p < N and 0 <= q < M:\n",
    "                        pattern += original[p][q]\n",
    "                    else:\n",
    "                        pattern += '.'\n",
    "            binary = ''\n",
    "            for c in pattern:\n",
    "                binary += '1' if c == '#' else '0'\n",
    "\n",
    "            idx = int(binary, 2)\n",
    "            enhanced[i][j] = rule[idx]\n",
    "\n",
    "    return enhanced\n"
   ]
  },
  {
   "cell_type": "code",
   "execution_count": 295,
   "metadata": {},
   "outputs": [],
   "source": [
    "extra_padding = 100\n",
    "\n",
    "def add_padding(pixels: List[List[str]]) -> List[List[str]]:\n",
    "    N, M = len(pixels), len(pixels[0])\n",
    "    N += 2 * extra_padding\n",
    "    M += 2 * extra_padding\n",
    "\n",
    "    original = [['.' for j in range(M)] for i in range(N)]\n",
    "    for i in range(extra_padding, N - extra_padding):\n",
    "        for j in range(extra_padding, M - extra_padding):\n",
    "            original[i][j] = pixels[i - extra_padding][j - extra_padding]\n",
    "\n",
    "    return original\n"
   ]
  },
  {
   "cell_type": "code",
   "execution_count": 296,
   "metadata": {},
   "outputs": [],
   "source": [
    "def count_lights(pixels: List[List[str]], padding: int, steps: int) -> int:\n",
    "    count = 0\n",
    "\n",
    "    for i in range(padding - steps - 1, len(pixels) - padding + steps + 1):\n",
    "        for j in range(padding - steps - 1, len(pixels[0]) - padding + steps + 1):\n",
    "            count += pixels[i][j] == '#'\n",
    "\n",
    "    return count\n",
    "\n"
   ]
  },
  {
   "cell_type": "code",
   "execution_count": 297,
   "metadata": {},
   "outputs": [],
   "source": [
    "def print_matrix(pixels: List[List[str]]) -> None:\n",
    "    for x in pixels:\n",
    "        for y in x:\n",
    "            print(y, end='')\n",
    "        print()"
   ]
  },
  {
   "cell_type": "code",
   "execution_count": 298,
   "metadata": {},
   "outputs": [
    {
     "name": "stdout",
     "output_type": "stream",
     "text": [
      "17096\n"
     ]
    }
   ],
   "source": [
    "padded = add_padding(pixels)\n",
    "# print_matrix(padded)\n",
    "\n",
    "for steps in range(50):\n",
    "    padded = enhance(padded, rule)\n",
    "\n",
    "# print_matrix(padded)\n",
    "\n",
    "print(count_lights(padded, extra_padding, steps))"
   ]
  }
 ],
 "metadata": {
  "interpreter": {
   "hash": "31f2aee4e71d21fbe5cf8b01ff0e069b9275f58929596ceb00d14d90e3e16cd6"
  },
  "kernelspec": {
   "display_name": "Python 3.8.9 64-bit",
   "language": "python",
   "name": "python3"
  },
  "language_info": {
   "codemirror_mode": {
    "name": "ipython",
    "version": 3
   },
   "file_extension": ".py",
   "mimetype": "text/x-python",
   "name": "python",
   "nbconvert_exporter": "python",
   "pygments_lexer": "ipython3",
   "version": "3.8.9"
  },
  "orig_nbformat": 4
 },
 "nbformat": 4,
 "nbformat_minor": 2
}
