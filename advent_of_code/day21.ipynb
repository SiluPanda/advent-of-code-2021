{
 "cells": [
  {
   "cell_type": "code",
   "execution_count": 129,
   "metadata": {},
   "outputs": [],
   "source": [
    "from typing import *\n",
    "from collections import *"
   ]
  },
  {
   "cell_type": "code",
   "execution_count": 130,
   "metadata": {},
   "outputs": [
    {
     "name": "stdout",
     "output_type": "stream",
     "text": [
      "4 8\n"
     ]
    }
   ],
   "source": [
    "x, y = None, None\n",
    "for line in open('input21.txt', 'r'):\n",
    "    if line != '\\n':\n",
    "        line = line.strip().rstrip()\n",
    "        x, y = map(int, line.split())\n",
    "\n",
    "\n",
    "\n",
    "print(x, y)\n"
   ]
  },
  {
   "cell_type": "code",
   "execution_count": 131,
   "metadata": {},
   "outputs": [],
   "source": [
    "def mod_one(num, mod):\n",
    "    return (num % mod) if (num % mod) != 0 else mod\n",
    "    "
   ]
  },
  {
   "cell_type": "markdown",
   "metadata": {},
   "source": [
    "### Part 1"
   ]
  },
  {
   "cell_type": "code",
   "execution_count": 132,
   "metadata": {},
   "outputs": [
    {
     "name": "stdout",
     "output_type": "stream",
     "text": [
      "993 745\n",
      "739785\n"
     ]
    }
   ],
   "source": [
    "dice = 1\n",
    "roll_count = 0\n",
    "scorex = 0\n",
    "scorey = 0\n",
    "\n",
    "turn = 1\n",
    "while True:\n",
    "    if turn == 1:\n",
    "        for _ in range(3):\n",
    "            x = mod_one(x + dice, 10)\n",
    "            dice = mod_one(dice + 1, 100)\n",
    "            roll_count += 1\n",
    "        scorex += x\n",
    "\n",
    "        if scorex >= 1000:\n",
    "            print(roll_count, scorey)\n",
    "            print(roll_count * scorey)\n",
    "            break\n",
    "            \n",
    "        turn = 2\n",
    "\n",
    "        \n",
    "\n",
    "    else:\n",
    "        for _ in range(3):\n",
    "            y = mod_one(y + dice, 10)\n",
    "            dice = mod_one(dice + 1, 100)\n",
    "            roll_count += 1\n",
    "        \n",
    "        scorey += y\n",
    "\n",
    "        if scorey >= 1000:\n",
    "            print(roll_count * scorex)\n",
    "            break\n",
    "        \n",
    "        turn = 1\n",
    "\n",
    "        \n",
    "\n",
    "\n"
   ]
  },
  {
   "cell_type": "markdown",
   "metadata": {},
   "source": [
    "### Part 2"
   ]
  },
  {
   "cell_type": "code",
   "execution_count": 133,
   "metadata": {},
   "outputs": [],
   "source": [
    "possible_dice_outcomes = defaultdict(int)\n",
    "for i in range(1, 4):\n",
    "    for j in range(1, 4):\n",
    "        for k in range(1, 4):\n",
    "            possible_dice_outcomes[i + j + k] += 1"
   ]
  },
  {
   "cell_type": "code",
   "execution_count": 134,
   "metadata": {},
   "outputs": [
    {
     "name": "stdout",
     "output_type": "stream",
     "text": [
      "630797200227453\n"
     ]
    }
   ],
   "source": [
    "x, y = 7, 8\n",
    "universes = defaultdict(int)\n",
    "universes[(x, y, 0, 0)] = 1\n",
    "\n",
    "# To keep track whether or not game should be continued\n",
    "should_play = True\n",
    "turn = 1\n",
    "while should_play:\n",
    "    # hope that game is finished\n",
    "    should_play = False\n",
    "\n",
    "    # to store the next state of universe after this round of game\n",
    "    next_universes_state = defaultdict(int)\n",
    "    \n",
    "    for universe in universes:\n",
    "        player_1, player_2, score_1, score_2 = universe\n",
    "        \n",
    "\n",
    "        if max(score_1, score_2) < 21:\n",
    "            \n",
    "            should_play = True\n",
    "            for roll in possible_dice_outcomes:\n",
    "                player_1, player_2, score_1, score_2 = universe\n",
    "                \n",
    "                if turn == 1:\n",
    "                    player_1 = (player_1 - 1 + roll) % 10 + 1\n",
    "                    score_1 += player_1\n",
    "                else:\n",
    "                    player_2 = (player_2 - 1 + roll) % 10 + 1\n",
    "                    score_2 += player_2\n",
    "                \n",
    "                next_universes_state[(player_1, player_2, score_1, score_2)] += possible_dice_outcomes[roll] * universes[universe]\n",
    "        else:\n",
    "            next_universes_state[universe] += universes[universe]\n",
    "\n",
    "    \n",
    "\n",
    "    if turn == 1:\n",
    "        turn = 2\n",
    "    else:\n",
    "        turn = 1\n",
    "\n",
    "    universes = next_universes_state.copy()\n",
    "    \n",
    "\n",
    "\n",
    "player_1_wins, player_2_wins = 0, 0\n",
    "for key, value in universes.items():\n",
    "    if key[2] >= 21:\n",
    "        player_1_wins += value\n",
    "    elif key[3] >= 21:\n",
    "        player_2_wins += value\n",
    "    else:\n",
    "        raise Exception(\"wrong match state\")\n",
    "\n",
    "\n",
    "print(max(player_1_wins, player_2_wins))\n",
    "\n",
    "\n",
    "\n",
    "\n",
    "\n"
   ]
  }
 ],
 "metadata": {
  "interpreter": {
   "hash": "31f2aee4e71d21fbe5cf8b01ff0e069b9275f58929596ceb00d14d90e3e16cd6"
  },
  "kernelspec": {
   "display_name": "Python 3.8.9 64-bit",
   "language": "python",
   "name": "python3"
  },
  "language_info": {
   "codemirror_mode": {
    "name": "ipython",
    "version": 3
   },
   "file_extension": ".py",
   "mimetype": "text/x-python",
   "name": "python",
   "nbconvert_exporter": "python",
   "pygments_lexer": "ipython3",
   "version": "3.8.9"
  },
  "orig_nbformat": 4
 },
 "nbformat": 4,
 "nbformat_minor": 2
}
