{
 "cells": [
  {
   "cell_type": "code",
   "execution_count": 94,
   "metadata": {},
   "outputs": [],
   "source": [
    "from sys import stdin\n",
    "from typing import *\n",
    "\n",
    "\n",
    "scanner_points = []\n",
    "current = []\n",
    "for line in open('input19.1.txt', 'r'):\n",
    "    if line != '\\n':\n",
    "        line = line.rstrip().lstrip()\n",
    "        if line.startswith('--'):\n",
    "            if current:\n",
    "                scanner_points.append(set([tuple(x) for x in current]))\n",
    "            current = []\n",
    "\n",
    "        else:\n",
    "            x, y, z = map(int, line.split(','))\n",
    "\n",
    "            current.append([x, y, z])\n",
    "\n",
    "if current:\n",
    "    scanner_points.append(set([tuple(x) for x in current]))\n",
    "\n",
    "        "
   ]
  },
  {
   "cell_type": "code",
   "execution_count": 95,
   "metadata": {},
   "outputs": [],
   "source": [
    "def z_orientations(x: int, y: int, z: int) -> List[Tuple[int]]:\n",
    "    return [\n",
    "        (x, y, z),\n",
    "        (x, z, -y),\n",
    "        (x, -y, -z),\n",
    "        (x, -z, y),\n",
    "        (-z, y, x),\n",
    "        (z, y, -x)\n",
    "    ]\n",
    "\n",
    "def get_rotations(x: int, y: int, z: int) -> List[Tuple[int]]:\n",
    "    return [\n",
    "        (x, y, z),\n",
    "        (-y, x, z),\n",
    "        (-x, -y, z),\n",
    "        (y, -x, z)\n",
    "    ]\n",
    "\n",
    "def get_orientations(x: int, y: int, z: int) -> List[Tuple[int]]:\n",
    "    orientations = []\n",
    "    for xx, yy, zz in z_orientations(x, y, z):\n",
    "        orientations.extend(get_rotations(xx, yy, zz))\n",
    "\n",
    "    return orientations\n",
    "\n",
    "\n"
   ]
  },
  {
   "cell_type": "code",
   "execution_count": 96,
   "metadata": {},
   "outputs": [],
   "source": [
    "class Scanner:\n",
    "    def __init__(self, scans: Set[Tuple[int]], pos: Tuple[int]=None) -> None:\n",
    "        self.scans = scans\n",
    "        self.pos = pos\n",
    "        self.shifted = False\n",
    "\n",
    "    def search(self, scanners: List[Scanner]) -> None:\n",
    "        if self.shifted:\n",
    "            return\n",
    "        \n",
    "        for scanner in scanners:\n",
    "            if scanner.shifted:\n",
    "                found = self.pair(scanner.scans)\n",
    "                if found:\n",
    "                    print(\"found for scanner\")\n",
    "                    return\n",
    "            \n",
    "\n",
    "    def pair(self, scannera: Set[Tuple[int]]) -> bool:\n",
    "        if self.shifted:\n",
    "            return True\n",
    "        b = self.scans\n",
    "\n",
    "        all_or = [[] for i in range(24)]\n",
    "        for x, y, z in b:\n",
    "            ori = get_orientations(x, y, z)\n",
    "            for i in range(24):\n",
    "                all_or[i].append(ori[i])\n",
    "        if len(all_or) != 24:\n",
    "            raise Exception(\"No\")\n",
    "        for orientation in all_or:\n",
    "            for fx, fy, fz in scannera:\n",
    "                for x, y, z in orientation:\n",
    "                    dx, dy, dz = fx - x, fy - y, fz - z\n",
    "                    new_points = {(px + dx, py + dy, pz + dz) for px, py, pz in orientation}\n",
    "                    common = new_points.intersection(scannera)\n",
    "                    if len(common) >= 12:\n",
    "                        self.scans = new_points\n",
    "                        self.pos = (dx, dy, dz)\n",
    "                        self.shifted = True\n",
    "                        return True\n",
    "\n",
    "\n",
    "        return False\n"
   ]
  },
  {
   "cell_type": "code",
   "execution_count": 97,
   "metadata": {},
   "outputs": [],
   "source": [
    "scanners = []\n",
    "\n",
    "for scanner_point in scanner_points:\n",
    "    scanners.append(Scanner(scanner_point))\n",
    "\n",
    "scanners[0].pos = (0, 0, 0)\n",
    "scanners[0].shifted = True\n",
    "\n"
   ]
  },
  {
   "cell_type": "code",
   "execution_count": 98,
   "metadata": {},
   "outputs": [
    {
     "name": "stdout",
     "output_type": "stream",
     "text": [
      "found for scanner\n",
      "found for scanner\n",
      "found for scanner\n",
      "found for scanner\n",
      "found for scanner\n",
      "found for scanner\n",
      "found for scanner\n",
      "found for scanner\n",
      "found for scanner\n",
      "found for scanner\n",
      "found for scanner\n",
      "found for scanner\n",
      "found for scanner\n",
      "found for scanner\n",
      "found for scanner\n",
      "found for scanner\n",
      "found for scanner\n",
      "found for scanner\n",
      "found for scanner\n",
      "found for scanner\n",
      "found for scanner\n",
      "found for scanner\n",
      "found for scanner\n",
      "found for scanner\n",
      "found for scanner\n",
      "found for scanner\n",
      "found for scanner\n",
      "found for scanner\n",
      "found for scanner\n",
      "found for scanner\n",
      "found for scanner\n",
      "found for scanner\n",
      "found for scanner\n",
      "found for scanner\n",
      "found for scanner\n",
      "found for scanner\n",
      "found for scanner\n",
      "found for scanner\n",
      "found for scanner\n",
      "[(0, 0, 0), (1212, -1236, 3556), (3607, -2449, -97), (1252, -1184, 4724), (8571, -45, -1296), (2480, -3, -2458), (4832, 80, -84), (3785, 48, 1211), (2468, -2482, 55), (2530, 2402, -1217), (2537, 1246, -2376), (1205, 1142, -1150), (3752, 1215, -1257), (2490, -5, -1182), (3687, -1240, -1176), (3624, 61, -1278), (6041, 14, -1191), (2565, 1122, -1218), (1321, 2335, 49), (1280, -1226, -40), (2566, -1130, -2367), (2477, -47, 2), (1254, -1265, 2471), (1276, 54, 3592), (124, -1141, 2453), (1280, -2409, 2479), (6132, -1177, -1173), (1382, -30, -20), (1267, 42, 1112), (7324, -63, -1168), (4847, -15, -1282), (1258, -1243, 1158), (150, 60, -2414), (2450, 92, 1130), (1367, -2453, -57), (1273, 1108, 78), (172, 2, -1300), (2557, -1262, 2305), (1370, -2400, -1165), (1253, 14, 2421)]\n",
      "496\n"
     ]
    }
   ],
   "source": [
    "while False in [x.shifted for x in scanners]:\n",
    "\n",
    "\n",
    "    for scanner in scanners:\n",
    "        scanner.search(scanners)\n",
    "\n",
    "points = set()\n",
    "\n",
    "print([x.pos for x in scanners])\n",
    "for scanner in scanners:\n",
    "    points |= scanner.scans\n",
    "\n",
    "print(len(points))"
   ]
  },
  {
   "cell_type": "code",
   "execution_count": 102,
   "metadata": {},
   "outputs": [
    {
     "name": "stdout",
     "output_type": "stream",
     "text": [
      "14478\n"
     ]
    }
   ],
   "source": [
    "def manhatten(a: Tuple[int], b: Tuple[int]) -> int:\n",
    "    return sum([abs(ax - bx) for ax, bx in zip(a, b)])\n",
    "\n",
    "\n",
    "maximum = 0\n",
    "for a in scanners:\n",
    "    for b in scanners:\n",
    "        maximum = max(manhatten(a.pos, b.pos), maximum)\n",
    "\n",
    "print(maximum)"
   ]
  }
 ],
 "metadata": {
  "interpreter": {
   "hash": "31f2aee4e71d21fbe5cf8b01ff0e069b9275f58929596ceb00d14d90e3e16cd6"
  },
  "kernelspec": {
   "display_name": "Python 3.8.9 64-bit",
   "language": "python",
   "name": "python3"
  },
  "language_info": {
   "codemirror_mode": {
    "name": "ipython",
    "version": 3
   },
   "file_extension": ".py",
   "mimetype": "text/x-python",
   "name": "python",
   "nbconvert_exporter": "python",
   "pygments_lexer": "ipython3",
   "version": "3.8.9"
  },
  "orig_nbformat": 4
 },
 "nbformat": 4,
 "nbformat_minor": 2
}
