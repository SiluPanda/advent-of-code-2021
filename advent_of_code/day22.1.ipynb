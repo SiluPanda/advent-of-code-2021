{
 "cells": [
  {
   "cell_type": "code",
   "execution_count": 9,
   "metadata": {},
   "outputs": [],
   "source": [
    "from typing import *\n",
    "from collections import *"
   ]
  },
  {
   "cell_type": "code",
   "execution_count": 12,
   "metadata": {},
   "outputs": [],
   "source": [
    "actions = []\n",
    "for line in open('input22.txt', 'r'):\n",
    "    if line != '\\n':\n",
    "        line = line.rstrip().lstrip()\n",
    "        action, coords = line.split(' ')\n",
    "        xc, yc, zc = coords.split(',')\n",
    "        \n",
    "        xrange = list(map(int, xc.split('=')[1].split('..')))\n",
    "        yrange = list(map(int, yc.split('=')[1].split('..')))\n",
    "        zrange = list(map(int, zc.split('=')[1].split('..')))\n",
    "\n",
    "        actions.append([action, xrange, yrange, zrange])\n",
    "\n",
    "\n"
   ]
  },
  {
   "cell_type": "code",
   "execution_count": 11,
   "metadata": {},
   "outputs": [
    {
     "name": "stdout",
     "output_type": "stream",
     "text": [
      "603661\n"
     ]
    }
   ],
   "source": [
    "grid = defaultdict(int)\n",
    "\n",
    "for action in actions:\n",
    "    xmin, xmax = max(-50, action[1][0]), min(50, action[1][1])\n",
    "    ymin, ymax = max(-50, action[2][0]), min(50, action[2][1])\n",
    "    zmin, zmax = max(-50, action[3][0]), min(50, action[3][1])\n",
    "\n",
    "    for i in range(xmin, xmax + 1):\n",
    "        for j in range(ymin, ymax + 1):\n",
    "            for k in range(zmin, zmax + 1):\n",
    "                grid[(i, j, k)] = 1 if action[0] == 'on' else 0\n",
    "\n",
    "\n",
    "print(sum(grid.values()))"
   ]
  }
 ],
 "metadata": {
  "interpreter": {
   "hash": "31f2aee4e71d21fbe5cf8b01ff0e069b9275f58929596ceb00d14d90e3e16cd6"
  },
  "kernelspec": {
   "display_name": "Python 3.8.9 64-bit",
   "language": "python",
   "name": "python3"
  },
  "language_info": {
   "codemirror_mode": {
    "name": "ipython",
    "version": 3
   },
   "file_extension": ".py",
   "mimetype": "text/x-python",
   "name": "python",
   "nbconvert_exporter": "python",
   "pygments_lexer": "ipython3",
   "version": "3.8.9"
  },
  "orig_nbformat": 4
 },
 "nbformat": 4,
 "nbformat_minor": 2
}
